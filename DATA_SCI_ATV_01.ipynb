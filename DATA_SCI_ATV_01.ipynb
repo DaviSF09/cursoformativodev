{
  "nbformat": 4,
  "nbformat_minor": 0,
  "metadata": {
    "colab": {
      "provenance": [],
      "authorship_tag": "ABX9TyMKAiOUuP+qH4tzd+TbfSjF",
      "include_colab_link": true
    },
    "kernelspec": {
      "name": "python3",
      "display_name": "Python 3"
    },
    "language_info": {
      "name": "python"
    }
  },
  "cells": [
    {
      "cell_type": "markdown",
      "metadata": {
        "id": "view-in-github",
        "colab_type": "text"
      },
      "source": [
        "<a href=\"https://colab.research.google.com/github/DaviSF09/cursoformativodev_davisf/blob/main/DATA_SCI_ATV_01.ipynb\" target=\"_parent\"><img src=\"https://colab.research.google.com/assets/colab-badge.svg\" alt=\"Open In Colab\"/></a>"
      ]
    },
    {
      "cell_type": "code",
      "source": [
        "n = float(input(\"Digite o número 1:\"))\n",
        "m = float(input(\"Digite o número 2:\"))\n",
        "op = input(\"Digite a operação:\")\n",
        "if op == \"+\":\n",
        "  print(n+m)\n",
        "elif op == \"-\":\n",
        "  print(n-m)\n",
        "elif op == \"*\":\n",
        "  print(n*m)\n",
        "elif op == \"/\":\n",
        "  if m == 0:\n",
        "    print(\"erro, não é possível dividir por 0\")\n",
        "  else:\n",
        "    print(n/m)\n",
        "else:\n",
        "  print(\"Tente novamente, operação inválida\")"
      ],
      "metadata": {
        "colab": {
          "base_uri": "https://localhost:8080/"
        },
        "id": "469V5P-Wzb5w",
        "outputId": "300fa515-26de-4e11-c0f4-7cbb6acfd0a5"
      },
      "execution_count": 15,
      "outputs": [
        {
          "output_type": "stream",
          "name": "stdout",
          "text": [
            "Digite o número 1:4\n",
            "Digite o número 2:0\n",
            "Digite a operação:.\n",
            "Tente novamente, operação inválida\n"
          ]
        }
      ]
    }
  ]
}