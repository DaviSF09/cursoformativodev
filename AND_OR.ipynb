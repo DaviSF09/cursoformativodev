{
  "nbformat": 4,
  "nbformat_minor": 0,
  "metadata": {
    "colab": {
      "provenance": [],
      "authorship_tag": "ABX9TyPzB73Pn0bkJfnB0n77ytCe"
    },
    "kernelspec": {
      "name": "python3",
      "display_name": "Python 3"
    },
    "language_info": {
      "name": "python"
    }
  },
  "cells": [
    {
      "cell_type": "code",
      "source": [
        "num1 = int(input(\"Insira um número inteiro: \"))\n",
        "num2 = int(input(\"Insira outro número inteiro: \"))\n",
        "exp = num1**num2\n",
        "print(\"Resultado da exponenciação:\",exp)"
      ],
      "metadata": {
        "colab": {
          "base_uri": "https://localhost:8080/"
        },
        "id": "Dj0aQbQ7G1iP",
        "outputId": "d63b6171-f52e-445b-846e-3739ae6e3bac"
      },
      "execution_count": 4,
      "outputs": [
        {
          "output_type": "stream",
          "name": "stdout",
          "text": [
            "Insira um número inteiro: 2\n",
            "Insira outro número inteiro: 3\n",
            "Resultado da exponenciação: 8\n"
          ]
        }
      ]
    },
    {
      "cell_type": "code",
      "source": [
        "num1 = int(input(\"Insira um número inteiro: \"))\n",
        "num2 = int(input(\"Insira outro número inteiro: \"))\n",
        "div = num1/num2\n",
        "resto = num1%num2\n",
        "print(\"Resultado:\",div)\n",
        "print(\"Resto:\",resto)"
      ],
      "metadata": {
        "colab": {
          "base_uri": "https://localhost:8080/"
        },
        "id": "8N42gTHhH6ez",
        "outputId": "8134a50f-d400-48a8-f879-479e060d646d"
      },
      "execution_count": 8,
      "outputs": [
        {
          "output_type": "stream",
          "name": "stdout",
          "text": [
            "Insira um número inteiro: 3\n",
            "Insira outro número inteiro: 2\n",
            "Resultado: 1.5\n",
            "Resto: 1\n"
          ]
        }
      ]
    },
    {
      "cell_type": "code",
      "source": [
        "a = 10\n",
        "b = 10\n",
        "c = a < b\n",
        "d = a > b\n",
        "e = a == b\n",
        "print(\"Valor de c:\",c)\n",
        "print(\"Valor de d:\",d)\n",
        "print(\"Valor de e:\",e)"
      ],
      "metadata": {
        "colab": {
          "base_uri": "https://localhost:8080/"
        },
        "id": "k_LEfunRIu-j",
        "outputId": "55b50918-0606-415c-dba1-0645d60ed98f"
      },
      "execution_count": 12,
      "outputs": [
        {
          "output_type": "stream",
          "name": "stdout",
          "text": [
            "Valor de c: False\n",
            "Valor de d: False\n",
            "Valor de e: True\n"
          ]
        }
      ]
    },
    {
      "cell_type": "code",
      "source": [
        "A=True\n",
        "B=False\n",
        "print(\"Valor de A e B:\", A and B)"
      ],
      "metadata": {
        "colab": {
          "base_uri": "https://localhost:8080/"
        },
        "id": "v0Ja_qqTKTfT",
        "outputId": "fa280fac-ebc7-41e8-bb7a-33020d7e8cf9"
      },
      "execution_count": 18,
      "outputs": [
        {
          "output_type": "stream",
          "name": "stdout",
          "text": [
            "Valor de A e B: False\n"
          ]
        }
      ]
    },
    {
      "cell_type": "code",
      "source": [
        "A=True\n",
        "B=False\n",
        "print(\"Valor de A e B:\", A or B)"
      ],
      "metadata": {
        "colab": {
          "base_uri": "https://localhost:8080/"
        },
        "id": "cLGeV72RK2k7",
        "outputId": "e4a510e5-ae75-4e6c-da6d-09e14d21afe2"
      },
      "execution_count": 19,
      "outputs": [
        {
          "output_type": "stream",
          "name": "stdout",
          "text": [
            "Valor de A e B: True\n"
          ]
        }
      ]
    },
    {
      "cell_type": "code",
      "source": [
        "a=2\n",
        "b=4\n",
        "if a == 2 and b == 3:\n",
        "  print(True)\n",
        "else:\n",
        "  print(False)"
      ],
      "metadata": {
        "colab": {
          "base_uri": "https://localhost:8080/"
        },
        "id": "KOfQZ7AeLP5a",
        "outputId": "44b8f62d-6435-404a-8c26-97aeb6ff4489"
      },
      "execution_count": 21,
      "outputs": [
        {
          "output_type": "stream",
          "name": "stdout",
          "text": [
            "False\n"
          ]
        }
      ]
    },
    {
      "cell_type": "code",
      "source": [
        "a=2\n",
        "b=4\n",
        "if a == 2 or b == 3:\n",
        "  print(True)\n",
        "else:\n",
        "  print(False)"
      ],
      "metadata": {
        "colab": {
          "base_uri": "https://localhost:8080/"
        },
        "id": "fTbDUInaLuC0",
        "outputId": "0b98b0d0-42f5-48f9-c9b0-97b6418e2027"
      },
      "execution_count": 22,
      "outputs": [
        {
          "output_type": "stream",
          "name": "stdout",
          "text": [
            "True\n"
          ]
        }
      ]
    },
    {
      "cell_type": "code",
      "source": [
        "condicao = True\n",
        "if not condicao:\n",
        "  print(\"A condição é falsa\")\n",
        "else:\n",
        "  print(\"A condição é verdadeira\")"
      ],
      "metadata": {
        "colab": {
          "base_uri": "https://localhost:8080/"
        },
        "id": "EW3JNGStMad8",
        "outputId": "6aa2da1a-9b6b-487e-9c44-fea8a245ab20"
      },
      "execution_count": 23,
      "outputs": [
        {
          "output_type": "stream",
          "name": "stdout",
          "text": [
            "A condição é verdadeira\n"
          ]
        }
      ]
    },
    {
      "cell_type": "code",
      "source": [
        "num=int(input(\"Insira um número inteiro: \"))\n",
        "if 10<num<20:\n",
        "  print(\"O número está entre 10 e 20\")\n",
        "else:\n",
        "  print(\"O número não está entre 10 e 20\")\n"
      ],
      "metadata": {
        "colab": {
          "base_uri": "https://localhost:8080/"
        },
        "id": "vJMpfkzaM9es",
        "outputId": "b1920257-7602-4253-aafc-0e98ce76f306"
      },
      "execution_count": 29,
      "outputs": [
        {
          "output_type": "stream",
          "name": "stdout",
          "text": [
            "Insira um número inteiro: 13\n",
            "O número está entre 10 e 20\n"
          ]
        }
      ]
    },
    {
      "cell_type": "code",
      "source": [],
      "metadata": {
        "id": "oVzyyXtVN3n_"
      },
      "execution_count": null,
      "outputs": []
    }
  ]
}